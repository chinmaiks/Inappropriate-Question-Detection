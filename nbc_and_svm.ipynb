{
  "nbformat": 4,
  "nbformat_minor": 0,
  "metadata": {
    "colab": {
      "name": "nbc_and_svm.ipynb",
      "provenance": [],
      "collapsed_sections": []
    },
    "kernelspec": {
      "name": "python3",
      "display_name": "Python 3"
    }
  },
  "cells": [
    {
      "cell_type": "code",
      "metadata": {
        "id": "SbHJc3ylyKCO",
        "colab_type": "code",
        "colab": {}
      },
      "source": [
        "import numpy as np, pandas as pd\n",
        "import matplotlib.pyplot as plt\n",
        "from sklearn.model_selection import train_test_split\n",
        "from sklearn.feature_extraction.text import TfidfVectorizer\n",
        "from sklearn.model_selection import cross_val_score\n",
        "from sklearn.naive_bayes import MultinomialNB\n",
        "from sklearn.metrics import precision_recall_fscore_support\n",
        "from sklearn.metrics import confusion_matrix, roc_curve, roc_auc_score, classification_report, accuracy_score, precision_recall_fscore_support\n",
        "from sklearn.metrics import confusion_matrix, roc_curve, roc_auc_score, classification_report, accuracy_score\n",
        "from sklearn import svm"
      ],
      "execution_count": 0,
      "outputs": []
    },
    {
      "cell_type": "code",
      "metadata": {
        "id": "zugHBbOKyvfv",
        "colab_type": "code",
        "colab": {}
      },
      "source": [
        "from google.colab import drive\n",
        "drive.mount('/gdrive')\n",
        "\n",
        "base_path = \"/gdrive/My Drive/data/\" #as per individual folder paths\n",
        "\n",
        "training_file = \"train.csv\"\n",
        "testing_file = \"test.csv\"\n",
        "\n",
        "trainDf = pd.read_csv(base_path + training_file).fillna(' ')\n",
        "testDf = pd.read_csv(base_path + testing_file).fillna(' ')"
      ],
      "execution_count": 0,
      "outputs": []
    },
    {
      "cell_type": "code",
      "metadata": {
        "id": "Rqvh4g1u1KKj",
        "colab_type": "code",
        "colab": {}
      },
      "source": [
        "def isToxic(row):\n",
        "    \"\"\"Comments which are toxic, obscene, a threat, an insult and has identity hate are marked as inappropriate\"\"\"\n",
        "    if row[\"toxic\"] == 1 or row[\"severe_toxic\"] == 1 or row[\"obscene\"] == 1 or row[\"threat\"] == 1 or row[\"insult\"] ==1 or row[\"identity_hate\"] == 1:\n",
        "        return 1\n",
        "    return 0\n",
        "trainDf[\"inappropriate\"] = trainDf.apply(lambda x: isToxic(x), axis=1)"
      ],
      "execution_count": 0,
      "outputs": []
    },
    {
      "cell_type": "code",
      "metadata": {
        "id": "i6c5Gp5r1qYE",
        "colab_type": "code",
        "colab": {}
      },
      "source": [
        "columns = [\"id\", \"comment_text\", \"inappropriate\"]\n",
        "trainDf = trainDf[columns]\n",
        "\n",
        "vectorizer = TfidfVectorizer(\n",
        "    sublinear_tf=True,\n",
        "    max_features=10000,\n",
        "    strip_accents='unicode',\n",
        "    analyzer='word',\n",
        "    stop_words='english',\n",
        "    token_pattern=r'\\w{1,}',\n",
        "    ngram_range=(1, 1)\n",
        "    )\n",
        "\n",
        "vectorizer.fit(pd.concat([trainDf['comment_text'], testDf['comment_text']]))\n",
        "trainFeatures = vectorizer.transform(trainDf['comment_text'])\n",
        "\n",
        "X_train, X_test, Y_train, Y_test = train_test_split( trainFeatures, trainDf['inappropriate'], test_size=0.2, random_state=42)"
      ],
      "execution_count": 0,
      "outputs": []
    },
    {
      "cell_type": "code",
      "metadata": {
        "id": "gdaO1ZZ-6n1c",
        "colab_type": "code",
        "colab": {}
      },
      "source": [
        "naiveBayesClassifier = MultinomialNB()\n",
        "naiveBayesClassifier.fit(X_train, Y_train)\n",
        "\n",
        "X_predicted = naiveBayesClassifier.predict(X_test)"
      ],
      "execution_count": 0,
      "outputs": []
    },
    {
      "cell_type": "code",
      "metadata": {
        "id": "La9A5A3_7GJ1",
        "colab_type": "code",
        "colab": {}
      },
      "source": [
        "pd.DataFrame(confusion_matrix(Y_test, X_predicted),\n",
        "   index = [['Actual', 'Actual'], ['Appropriate', 'Inappropriate']],\n",
        "   columns = [['Predicted', 'Predicted'], ['Appropiate', 'Inappropriate']])\n",
        "\n"
      ],
      "execution_count": 0,
      "outputs": []
    },
    {
      "cell_type": "code",
      "metadata": {
        "id": "Sf6F4C-C7xSt",
        "colab_type": "code",
        "colab": {}
      },
      "source": [
        "print(classification_report(Y_test, X_predicted))"
      ],
      "execution_count": 0,
      "outputs": []
    },
    {
      "cell_type": "code",
      "metadata": {
        "id": "Pt0eRuj571e3",
        "colab_type": "code",
        "colab": {}
      },
      "source": [
        "print(\"Naive Bayes Accuracy = \"+str(accuracy_score(Y_test,X_predicted)))"
      ],
      "execution_count": 0,
      "outputs": []
    },
    {
      "cell_type": "code",
      "metadata": {
        "colab_type": "code",
        "id": "ZyIhCpvb_Xq3",
        "colab": {}
      },
      "source": [
        "svmClassifier = svm.SVC(C = 0.1, kernel = 'linear', verbose=True)\n",
        "svmClassifier.fit(X_train, Y_train)"
      ],
      "execution_count": 0,
      "outputs": []
    },
    {
      "cell_type": "code",
      "metadata": {
        "id": "1X_G2LX48hTs",
        "colab_type": "code",
        "colab": {}
      },
      "source": [
        "X_predicted = svmClassifier.predict(X_test)"
      ],
      "execution_count": 0,
      "outputs": []
    },
    {
      "cell_type": "code",
      "metadata": {
        "id": "7niUEhBR87O6",
        "colab_type": "code",
        "colab": {}
      },
      "source": [
        "pd.DataFrame(confusion_matrix(Y_test, X_predicted),\n",
        "   index = [['Actual', 'Actual'], ['Appropriate', 'Inappropriate']],\n",
        "   columns = [['Predicted', 'Predicted'], ['Appropiate', 'Inappropriate']])"
      ],
      "execution_count": 0,
      "outputs": []
    },
    {
      "cell_type": "code",
      "metadata": {
        "id": "tjN3_U1S9BWa",
        "colab_type": "code",
        "colab": {}
      },
      "source": [
        "print(classification_report(Y_test, X_predicted))"
      ],
      "execution_count": 0,
      "outputs": []
    },
    {
      "cell_type": "code",
      "metadata": {
        "id": "qeuZftuU9CIK",
        "colab_type": "code",
        "colab": {}
      },
      "source": [
        "print(\"SVM Accuracy = \"+str(accuracy_score(Y_test,X_predicted)))"
      ],
      "execution_count": 0,
      "outputs": []
    }
  ]
}